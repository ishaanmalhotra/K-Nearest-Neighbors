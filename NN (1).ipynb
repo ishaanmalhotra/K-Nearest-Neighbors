{
 "cells": [
  {
   "cell_type": "code",
   "execution_count": 192,
   "metadata": {},
   "outputs": [],
   "source": [
    "import math\n",
    "import numpy as np"
   ]
  },
  {
   "cell_type": "code",
   "execution_count": 193,
   "metadata": {},
   "outputs": [],
   "source": [
    "def distance(value1, value2):\n",
    "    \"\"\"Returns the euclidean distance between two values for the specified number of parameters\"\"\"\n",
    "    result = np.sum((value2-value1)**2)\n",
    "    distance = math.sqrt(result)\n",
    "    return distance"
   ]
  },
  {
   "cell_type": "code",
   "execution_count": 194,
   "metadata": {},
   "outputs": [],
   "source": [
    "def getDistancesArray(X_train, testInstance):\n",
    "    \"\"\"Returns the array of distances calulated between each value in training set versus given test instance\"\"\"\n",
    "    distances=[]\n",
    "    for i in range(0,len(X_train)):\n",
    "        distances.append(distance(X_train[i],testInstance))\n",
    "    return distances"
   ]
  },
  {
   "cell_type": "code",
   "execution_count": 195,
   "metadata": {},
   "outputs": [],
   "source": [
    "def computeMinimum(array):\n",
    "    \"\"\"Returns the minimum value and corresponding index in a array\"\"\"\n",
    "    minimum = math.inf\n",
    "    counter = 0;\n",
    "    for i in range(len(array)):\n",
    "        if minimum>array[i]:\n",
    "            minimum = array[i]\n",
    "            counter=i\n",
    "    return [minimum,counter]"
   ]
  },
  {
   "cell_type": "code",
   "execution_count": 196,
   "metadata": {},
   "outputs": [],
   "source": [
    "def getNeighborLabels(X_train,X_test):\n",
    "    \"\"\"Returns the list of indices for the minimum distances in the training set for all \n",
    "    the given values of test set\"\"\"\n",
    "    labels = []\n",
    "    for i in range(len(X_test)):\n",
    "        labels.append(computeMinimum(getDistancesArray(X_train,X_test[i]))[1])\n",
    "    return labels"
   ]
  },
  {
   "cell_type": "code",
   "execution_count": 221,
   "metadata": {},
   "outputs": [],
   "source": [
    "def calculatePrediction(X_train,X_test,y_train,k):\n",
    "    \"\"\"Returns the value of the labels in training set for given test set in order to calculate prediction\"\"\"\n",
    "    y_labels = []\n",
    "    y_labels.append(y_train[getNeighborLabels(X_train,X_test)])\n",
    "    return y_labels"
   ]
  },
  {
   "cell_type": "markdown",
   "metadata": {},
   "source": [
    "#### Calculating Prediction For Iris Data Set"
   ]
  },
  {
   "cell_type": "code",
   "execution_count": 232,
   "metadata": {},
   "outputs": [],
   "source": [
    "from sklearn.datasets import load_iris\n",
    "iris = load_iris()\n",
    "from sklearn.model_selection import train_test_split\n",
    "X_train, X_test, y_train, y_test = train_test_split(iris['data'], iris['target'],random_state=0)\n",
    "y_pred = calculatePrediction(X_train,X_test,y_train,k=1)"
   ]
  },
  {
   "cell_type": "markdown",
   "metadata": {},
   "source": [
    "#### Predicted Labels for Iris Dataset"
   ]
  },
  {
   "cell_type": "code",
   "execution_count": 233,
   "metadata": {},
   "outputs": [
    {
     "name": "stdout",
     "output_type": "stream",
     "text": [
      "[array([2, 1, 0, 2, 0, 2, 0, 1, 1, 1, 2, 1, 1, 1, 1, 0, 1, 1, 0, 0, 2, 1,\n",
      "       0, 0, 2, 0, 0, 1, 1, 0, 2, 1, 0, 2, 2, 1, 0, 2])]\n"
     ]
    }
   ],
   "source": [
    "print(y_pred)"
   ]
  },
  {
   "cell_type": "markdown",
   "metadata": {},
   "source": [
    "#### Percentage of correct prediction "
   ]
  },
  {
   "cell_type": "code",
   "execution_count": 235,
   "metadata": {},
   "outputs": [
    {
     "data": {
      "text/plain": [
       "0.9736842105263158"
      ]
     },
     "execution_count": 235,
     "metadata": {},
     "output_type": "execute_result"
    }
   ],
   "source": [
    "np.mean(y_pred == y_test)"
   ]
  },
  {
   "cell_type": "markdown",
   "metadata": {},
   "source": [
    "## Test Error Rate for Iris Dataset, K=1"
   ]
  },
  {
   "cell_type": "code",
   "execution_count": 223,
   "metadata": {},
   "outputs": [
    {
     "data": {
      "text/plain": [
       "0.02631578947368421"
      ]
     },
     "execution_count": 223,
     "metadata": {},
     "output_type": "execute_result"
    }
   ],
   "source": [
    "np.mean(y_pred!=y_test)"
   ]
  },
  {
   "cell_type": "markdown",
   "metadata": {},
   "source": [
    "#### Calculating Prediction For Ionosphere Dataset"
   ]
  },
  {
   "cell_type": "code",
   "execution_count": 239,
   "metadata": {},
   "outputs": [],
   "source": [
    "X = np.genfromtxt(\"ionosphere.txt\", delimiter=\",\",usecols=np.arange(34))"
   ]
  },
  {
   "cell_type": "code",
   "execution_count": 240,
   "metadata": {},
   "outputs": [],
   "source": [
    "y = np.genfromtxt(\"ionosphere.txt\", delimiter=\",\",usecols=34, dtype='int')"
   ]
  },
  {
   "cell_type": "code",
   "execution_count": 241,
   "metadata": {},
   "outputs": [],
   "source": [
    "X_train, X_test, y_train, y_test = train_test_split(X,y,random_state=0)\n",
    "y_pred = calculatePrediction(X_train,X_test,y_train,k=1)"
   ]
  },
  {
   "cell_type": "markdown",
   "metadata": {},
   "source": [
    "#### Predicted Labels for Ionoshpere dataset"
   ]
  },
  {
   "cell_type": "code",
   "execution_count": 242,
   "metadata": {},
   "outputs": [
    {
     "name": "stdout",
     "output_type": "stream",
     "text": [
      "[array([ 1,  1,  1, -1, -1,  1,  1,  1,  1,  1,  1,  1, -1,  1,  1, -1, -1,\n",
      "        1,  1, -1,  1,  1, -1,  1,  1,  1, -1,  1, -1, -1,  1,  1,  1,  1,\n",
      "        1,  1,  1, -1,  1,  1,  1, -1,  1, -1,  1,  1, -1,  1,  1, -1,  1,\n",
      "        1,  1, -1,  1,  1,  1,  1, -1, -1,  1, -1,  1,  1,  1,  1,  1,  1,\n",
      "       -1,  1,  1,  1,  1, -1, -1,  1,  1, -1,  1, -1,  1, -1,  1,  1,  1,\n",
      "        1,  1,  1])]\n"
     ]
    }
   ],
   "source": [
    "print(y_pred)"
   ]
  },
  {
   "cell_type": "markdown",
   "metadata": {},
   "source": [
    "#### Percentage of correct prediction"
   ]
  },
  {
   "cell_type": "code",
   "execution_count": 243,
   "metadata": {},
   "outputs": [
    {
     "data": {
      "text/plain": [
       "0.8522727272727273"
      ]
     },
     "execution_count": 243,
     "metadata": {},
     "output_type": "execute_result"
    }
   ],
   "source": [
    "np.mean(y_pred==y_test)"
   ]
  },
  {
   "cell_type": "markdown",
   "metadata": {},
   "source": [
    "## Test Error Rate for Ionosphere Dataset, K=1"
   ]
  },
  {
   "cell_type": "code",
   "execution_count": 230,
   "metadata": {},
   "outputs": [
    {
     "data": {
      "text/plain": [
       "0.14772727272727273"
      ]
     },
     "execution_count": 230,
     "metadata": {},
     "output_type": "execute_result"
    }
   ],
   "source": [
    "np.mean(y_pred != y_test)"
   ]
  }
 ],
 "metadata": {
  "kernelspec": {
   "display_name": "Python 3",
   "language": "python",
   "name": "python3"
  },
  "language_info": {
   "codemirror_mode": {
    "name": "ipython",
    "version": 3
   },
   "file_extension": ".py",
   "mimetype": "text/x-python",
   "name": "python",
   "nbconvert_exporter": "python",
   "pygments_lexer": "ipython3",
   "version": "3.6.5"
  }
 },
 "nbformat": 4,
 "nbformat_minor": 2
}
